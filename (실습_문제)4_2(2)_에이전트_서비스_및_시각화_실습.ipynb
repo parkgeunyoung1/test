{
  "cells": [
    {
      "cell_type": "markdown",
      "metadata": {
        "id": "view-in-github",
        "colab_type": "text"
      },
      "source": [
        "<a href=\"https://colab.research.google.com/github/parkgeunyoung1/test/blob/master/(%EC%8B%A4%EC%8A%B5_%EB%AC%B8%EC%A0%9C)4_2(2)_%EC%97%90%EC%9D%B4%EC%A0%84%ED%8A%B8_%EC%84%9C%EB%B9%84%EC%8A%A4_%EB%B0%8F_%EC%8B%9C%EA%B0%81%ED%99%94_%EC%8B%A4%EC%8A%B5.ipynb\" target=\"_parent\"><img src=\"https://colab.research.google.com/assets/colab-badge.svg\" alt=\"Open In Colab\"/></a>"
      ]
    },
    {
      "cell_type": "markdown",
      "metadata": {
        "id": "jjXh_3kgXwEE"
      },
      "source": [
        "### **Content License Agreement**\n",
        "\n",
        "<font color='red'><b>**WARNING**</b></font> : 본 자료는 삼성청년SW·AI아카데미의 컨텐츠 자산으로, 보안서약서에 의거하여 어떠한 사유로도 임의로 복사, 촬영, 녹음, 복제, 보관, 전송하거나 허가 받지 않은 저장매체를 이용한 보관, 제3자에게 누설, 공개 또는 사용하는 등의 무단 사용 및 불법 배포 시 법적 조치를 받을 수 있습니다."
      ]
    },
    {
      "cell_type": "markdown",
      "metadata": {
        "id": "EVKJ8DcyXwEF"
      },
      "source": [
        "# 환경 설정\n",
        "\n",
        "## UPSTAGE Credit 및 API Key 발급 받기\n",
        "\n",
        "1. 회원 가입 진행\n",
        "  1. <a href = \"https://console.upstage.ai/\">업스테이지 콘솔</a> 에 방문합니다.\n",
        "  2. 계정이 없다면, 구글 계정을 통해 회원가입을 진행합니다\n",
        "  3.  계정에 로그인 합니다.\n",
        "\n",
        "2. API Key 발급\n",
        "  1. <a href = \"https://console.upstage.ai/api-keys\">업스테이지 콘솔 - API Keys</a>페이지를 클릭합니다.\n",
        "  2. Create New key를 누르고, 발급받은 API key를 복사합니다.\n",
        "  3. 하단 셀을 실행한 후, 복사한 API Key를 넣습니다.\n",
        "  4. 세션 재시작시에는 업스테이지 api 를 사용하는 코드를 사용하기 위해 반드시 다시 설정해야 합니다.\n",
        "\n"
      ]
    },
    {
      "cell_type": "code",
      "execution_count": 1,
      "metadata": {
        "colab": {
          "base_uri": "https://localhost:8080/"
        },
        "id": "Z49nAbOl4PN9",
        "outputId": "af03680c-3f01-44e0-d8ce-68d932903fbd"
      },
      "outputs": [
        {
          "output_type": "stream",
          "name": "stdout",
          "text": [
            "Enter your Upstage API key: ··········\n",
            "API key has been set successfully.\n"
          ]
        }
      ],
      "source": [
        "# @title set API key\n",
        "import os\n",
        "import getpass\n",
        "import warnings\n",
        "\n",
        "warnings.filterwarnings(\"ignore\")\n",
        "\n",
        "# Get the Upstage API key using getpass\n",
        "if \"UPSTAGE_API_KEY\" not in os.environ or not os.environ[\"UPSTAGE_API_KEY\"]:\n",
        "    os.environ[\"UPSTAGE_API_KEY\"] = getpass.getpass(\"Enter your Upstage API key: \")\n",
        "\n",
        "print(\"API key has been set successfully.\")\n"
      ]
    },
    {
      "cell_type": "markdown",
      "metadata": {
        "id": "PonSjxr1rcua"
      },
      "source": [
        "# **Prerequisites**\n",
        "\n",
        "코랩에서 기본적으로 설치된 라이브러리와 새로 설치하는 라이브리리 사이에서 발생하는 의존성 문제입니다. 이는 Python 패키지 관리 구조상, 특정 버전 조합이 완벽히 호환되지 않는 경우가 많기에 발생하고, 강의 실습에 큰 영향을 주지 않는 단순 Error이니 안심하고 실습을 진행해주셔도 됩니다."
      ]
    },
    {
      "cell_type": "code",
      "execution_count": 2,
      "metadata": {
        "colab": {
          "base_uri": "https://localhost:8080/"
        },
        "id": "JgsUKI_prZtR",
        "outputId": "0d52f1cb-b62c-4d8a-9744-196a076f89a4"
      },
      "outputs": [
        {
          "output_type": "stream",
          "name": "stdout",
          "text": [
            "Requirement already satisfied: langchain_community in /usr/local/lib/python3.12/dist-packages (0.4.1)\n",
            "Requirement already satisfied: langchain-core<2.0.0,>=1.0.1 in /usr/local/lib/python3.12/dist-packages (from langchain_community) (1.0.1)\n",
            "Requirement already satisfied: langchain-classic<2.0.0,>=1.0.0 in /usr/local/lib/python3.12/dist-packages (from langchain_community) (1.0.0)\n",
            "Requirement already satisfied: SQLAlchemy<3.0.0,>=1.4.0 in /usr/local/lib/python3.12/dist-packages (from langchain_community) (2.0.44)\n",
            "Requirement already satisfied: requests<3.0.0,>=2.32.5 in /usr/local/lib/python3.12/dist-packages (from langchain_community) (2.32.5)\n",
            "Requirement already satisfied: PyYAML<7.0.0,>=5.3.0 in /usr/local/lib/python3.12/dist-packages (from langchain_community) (6.0.3)\n",
            "Requirement already satisfied: aiohttp<4.0.0,>=3.8.3 in /usr/local/lib/python3.12/dist-packages (from langchain_community) (3.13.1)\n",
            "Requirement already satisfied: tenacity!=8.4.0,<10.0.0,>=8.1.0 in /usr/local/lib/python3.12/dist-packages (from langchain_community) (8.5.0)\n",
            "Requirement already satisfied: dataclasses-json<0.7.0,>=0.6.7 in /usr/local/lib/python3.12/dist-packages (from langchain_community) (0.6.7)\n",
            "Requirement already satisfied: pydantic-settings<3.0.0,>=2.10.1 in /usr/local/lib/python3.12/dist-packages (from langchain_community) (2.11.0)\n",
            "Requirement already satisfied: langsmith<1.0.0,>=0.1.125 in /usr/local/lib/python3.12/dist-packages (from langchain_community) (0.4.38)\n",
            "Requirement already satisfied: httpx-sse<1.0.0,>=0.4.0 in /usr/local/lib/python3.12/dist-packages (from langchain_community) (0.4.3)\n",
            "Requirement already satisfied: numpy>=1.26.2 in /usr/local/lib/python3.12/dist-packages (from langchain_community) (2.0.2)\n",
            "Requirement already satisfied: aiohappyeyeballs>=2.5.0 in /usr/local/lib/python3.12/dist-packages (from aiohttp<4.0.0,>=3.8.3->langchain_community) (2.6.1)\n",
            "Requirement already satisfied: aiosignal>=1.4.0 in /usr/local/lib/python3.12/dist-packages (from aiohttp<4.0.0,>=3.8.3->langchain_community) (1.4.0)\n",
            "Requirement already satisfied: attrs>=17.3.0 in /usr/local/lib/python3.12/dist-packages (from aiohttp<4.0.0,>=3.8.3->langchain_community) (25.4.0)\n",
            "Requirement already satisfied: frozenlist>=1.1.1 in /usr/local/lib/python3.12/dist-packages (from aiohttp<4.0.0,>=3.8.3->langchain_community) (1.8.0)\n",
            "Requirement already satisfied: multidict<7.0,>=4.5 in /usr/local/lib/python3.12/dist-packages (from aiohttp<4.0.0,>=3.8.3->langchain_community) (6.7.0)\n",
            "Requirement already satisfied: propcache>=0.2.0 in /usr/local/lib/python3.12/dist-packages (from aiohttp<4.0.0,>=3.8.3->langchain_community) (0.4.1)\n",
            "Requirement already satisfied: yarl<2.0,>=1.17.0 in /usr/local/lib/python3.12/dist-packages (from aiohttp<4.0.0,>=3.8.3->langchain_community) (1.22.0)\n",
            "Requirement already satisfied: marshmallow<4.0.0,>=3.18.0 in /usr/local/lib/python3.12/dist-packages (from dataclasses-json<0.7.0,>=0.6.7->langchain_community) (3.26.1)\n",
            "Requirement already satisfied: typing-inspect<1,>=0.4.0 in /usr/local/lib/python3.12/dist-packages (from dataclasses-json<0.7.0,>=0.6.7->langchain_community) (0.9.0)\n",
            "Requirement already satisfied: langchain-text-splitters<2.0.0,>=1.0.0 in /usr/local/lib/python3.12/dist-packages (from langchain-classic<2.0.0,>=1.0.0->langchain_community) (1.0.0)\n",
            "Requirement already satisfied: pydantic<3.0.0,>=2.7.4 in /usr/local/lib/python3.12/dist-packages (from langchain-classic<2.0.0,>=1.0.0->langchain_community) (2.11.10)\n",
            "Requirement already satisfied: jsonpatch<2.0.0,>=1.33.0 in /usr/local/lib/python3.12/dist-packages (from langchain-core<2.0.0,>=1.0.1->langchain_community) (1.33)\n",
            "Requirement already satisfied: packaging<26.0.0,>=23.2.0 in /usr/local/lib/python3.12/dist-packages (from langchain-core<2.0.0,>=1.0.1->langchain_community) (25.0)\n",
            "Requirement already satisfied: typing-extensions<5.0.0,>=4.7.0 in /usr/local/lib/python3.12/dist-packages (from langchain-core<2.0.0,>=1.0.1->langchain_community) (4.15.0)\n",
            "Requirement already satisfied: httpx<1,>=0.23.0 in /usr/local/lib/python3.12/dist-packages (from langsmith<1.0.0,>=0.1.125->langchain_community) (0.28.1)\n",
            "Requirement already satisfied: orjson>=3.9.14 in /usr/local/lib/python3.12/dist-packages (from langsmith<1.0.0,>=0.1.125->langchain_community) (3.11.4)\n",
            "Requirement already satisfied: requests-toolbelt>=1.0.0 in /usr/local/lib/python3.12/dist-packages (from langsmith<1.0.0,>=0.1.125->langchain_community) (1.0.0)\n",
            "Requirement already satisfied: zstandard>=0.23.0 in /usr/local/lib/python3.12/dist-packages (from langsmith<1.0.0,>=0.1.125->langchain_community) (0.25.0)\n",
            "Requirement already satisfied: python-dotenv>=0.21.0 in /usr/local/lib/python3.12/dist-packages (from pydantic-settings<3.0.0,>=2.10.1->langchain_community) (1.1.1)\n",
            "Requirement already satisfied: typing-inspection>=0.4.0 in /usr/local/lib/python3.12/dist-packages (from pydantic-settings<3.0.0,>=2.10.1->langchain_community) (0.4.2)\n",
            "Requirement already satisfied: charset_normalizer<4,>=2 in /usr/local/lib/python3.12/dist-packages (from requests<3.0.0,>=2.32.5->langchain_community) (3.4.4)\n",
            "Requirement already satisfied: idna<4,>=2.5 in /usr/local/lib/python3.12/dist-packages (from requests<3.0.0,>=2.32.5->langchain_community) (3.11)\n",
            "Requirement already satisfied: urllib3<3,>=1.21.1 in /usr/local/lib/python3.12/dist-packages (from requests<3.0.0,>=2.32.5->langchain_community) (2.5.0)\n",
            "Requirement already satisfied: certifi>=2017.4.17 in /usr/local/lib/python3.12/dist-packages (from requests<3.0.0,>=2.32.5->langchain_community) (2025.10.5)\n",
            "Requirement already satisfied: greenlet>=1 in /usr/local/lib/python3.12/dist-packages (from SQLAlchemy<3.0.0,>=1.4.0->langchain_community) (3.2.4)\n",
            "Requirement already satisfied: anyio in /usr/local/lib/python3.12/dist-packages (from httpx<1,>=0.23.0->langsmith<1.0.0,>=0.1.125->langchain_community) (4.11.0)\n",
            "Requirement already satisfied: httpcore==1.* in /usr/local/lib/python3.12/dist-packages (from httpx<1,>=0.23.0->langsmith<1.0.0,>=0.1.125->langchain_community) (1.0.9)\n",
            "Requirement already satisfied: h11>=0.16 in /usr/local/lib/python3.12/dist-packages (from httpcore==1.*->httpx<1,>=0.23.0->langsmith<1.0.0,>=0.1.125->langchain_community) (0.16.0)\n",
            "Requirement already satisfied: jsonpointer>=1.9 in /usr/local/lib/python3.12/dist-packages (from jsonpatch<2.0.0,>=1.33.0->langchain-core<2.0.0,>=1.0.1->langchain_community) (3.0.0)\n",
            "Requirement already satisfied: annotated-types>=0.6.0 in /usr/local/lib/python3.12/dist-packages (from pydantic<3.0.0,>=2.7.4->langchain-classic<2.0.0,>=1.0.0->langchain_community) (0.7.0)\n",
            "Requirement already satisfied: pydantic-core==2.33.2 in /usr/local/lib/python3.12/dist-packages (from pydantic<3.0.0,>=2.7.4->langchain-classic<2.0.0,>=1.0.0->langchain_community) (2.33.2)\n",
            "Requirement already satisfied: mypy-extensions>=0.3.0 in /usr/local/lib/python3.12/dist-packages (from typing-inspect<1,>=0.4.0->dataclasses-json<0.7.0,>=0.6.7->langchain_community) (1.1.0)\n",
            "Requirement already satisfied: sniffio>=1.1 in /usr/local/lib/python3.12/dist-packages (from anyio->httpx<1,>=0.23.0->langsmith<1.0.0,>=0.1.125->langchain_community) (1.3.1)\n",
            "Requirement already satisfied: langchain in /usr/local/lib/python3.12/dist-packages (0.3.27)\n",
            "Collecting langchain-core<1.0.0,>=0.3.72 (from langchain)\n",
            "  Using cached langchain_core-0.3.79-py3-none-any.whl.metadata (3.2 kB)\n",
            "Collecting langchain-text-splitters<1.0.0,>=0.3.9 (from langchain)\n",
            "  Using cached langchain_text_splitters-0.3.11-py3-none-any.whl.metadata (1.8 kB)\n",
            "Requirement already satisfied: langsmith>=0.1.17 in /usr/local/lib/python3.12/dist-packages (from langchain) (0.4.38)\n",
            "Requirement already satisfied: pydantic<3.0.0,>=2.7.4 in /usr/local/lib/python3.12/dist-packages (from langchain) (2.11.10)\n",
            "Requirement already satisfied: SQLAlchemy<3,>=1.4 in /usr/local/lib/python3.12/dist-packages (from langchain) (2.0.44)\n",
            "Requirement already satisfied: requests<3,>=2 in /usr/local/lib/python3.12/dist-packages (from langchain) (2.32.5)\n",
            "Requirement already satisfied: PyYAML>=5.3 in /usr/local/lib/python3.12/dist-packages (from langchain) (6.0.3)\n",
            "Requirement already satisfied: tenacity!=8.4.0,<10.0.0,>=8.1.0 in /usr/local/lib/python3.12/dist-packages (from langchain-core<1.0.0,>=0.3.72->langchain) (8.5.0)\n",
            "Requirement already satisfied: jsonpatch<2.0.0,>=1.33.0 in /usr/local/lib/python3.12/dist-packages (from langchain-core<1.0.0,>=0.3.72->langchain) (1.33)\n",
            "Requirement already satisfied: typing-extensions<5.0.0,>=4.7.0 in /usr/local/lib/python3.12/dist-packages (from langchain-core<1.0.0,>=0.3.72->langchain) (4.15.0)\n",
            "Requirement already satisfied: packaging<26.0.0,>=23.2.0 in /usr/local/lib/python3.12/dist-packages (from langchain-core<1.0.0,>=0.3.72->langchain) (25.0)\n",
            "Requirement already satisfied: httpx<1,>=0.23.0 in /usr/local/lib/python3.12/dist-packages (from langsmith>=0.1.17->langchain) (0.28.1)\n",
            "Requirement already satisfied: orjson>=3.9.14 in /usr/local/lib/python3.12/dist-packages (from langsmith>=0.1.17->langchain) (3.11.4)\n",
            "Requirement already satisfied: requests-toolbelt>=1.0.0 in /usr/local/lib/python3.12/dist-packages (from langsmith>=0.1.17->langchain) (1.0.0)\n",
            "Requirement already satisfied: zstandard>=0.23.0 in /usr/local/lib/python3.12/dist-packages (from langsmith>=0.1.17->langchain) (0.25.0)\n",
            "Requirement already satisfied: annotated-types>=0.6.0 in /usr/local/lib/python3.12/dist-packages (from pydantic<3.0.0,>=2.7.4->langchain) (0.7.0)\n",
            "Requirement already satisfied: pydantic-core==2.33.2 in /usr/local/lib/python3.12/dist-packages (from pydantic<3.0.0,>=2.7.4->langchain) (2.33.2)\n",
            "Requirement already satisfied: typing-inspection>=0.4.0 in /usr/local/lib/python3.12/dist-packages (from pydantic<3.0.0,>=2.7.4->langchain) (0.4.2)\n",
            "Requirement already satisfied: charset_normalizer<4,>=2 in /usr/local/lib/python3.12/dist-packages (from requests<3,>=2->langchain) (3.4.4)\n",
            "Requirement already satisfied: idna<4,>=2.5 in /usr/local/lib/python3.12/dist-packages (from requests<3,>=2->langchain) (3.11)\n",
            "Requirement already satisfied: urllib3<3,>=1.21.1 in /usr/local/lib/python3.12/dist-packages (from requests<3,>=2->langchain) (2.5.0)\n",
            "Requirement already satisfied: certifi>=2017.4.17 in /usr/local/lib/python3.12/dist-packages (from requests<3,>=2->langchain) (2025.10.5)\n",
            "Requirement already satisfied: greenlet>=1 in /usr/local/lib/python3.12/dist-packages (from SQLAlchemy<3,>=1.4->langchain) (3.2.4)\n",
            "Requirement already satisfied: anyio in /usr/local/lib/python3.12/dist-packages (from httpx<1,>=0.23.0->langsmith>=0.1.17->langchain) (4.11.0)\n",
            "Requirement already satisfied: httpcore==1.* in /usr/local/lib/python3.12/dist-packages (from httpx<1,>=0.23.0->langsmith>=0.1.17->langchain) (1.0.9)\n",
            "Requirement already satisfied: h11>=0.16 in /usr/local/lib/python3.12/dist-packages (from httpcore==1.*->httpx<1,>=0.23.0->langsmith>=0.1.17->langchain) (0.16.0)\n",
            "Requirement already satisfied: jsonpointer>=1.9 in /usr/local/lib/python3.12/dist-packages (from jsonpatch<2.0.0,>=1.33.0->langchain-core<1.0.0,>=0.3.72->langchain) (3.0.0)\n",
            "Requirement already satisfied: sniffio>=1.1 in /usr/local/lib/python3.12/dist-packages (from anyio->httpx<1,>=0.23.0->langsmith>=0.1.17->langchain) (1.3.1)\n",
            "Using cached langchain_core-0.3.79-py3-none-any.whl (449 kB)\n",
            "Using cached langchain_text_splitters-0.3.11-py3-none-any.whl (33 kB)\n",
            "Installing collected packages: langchain-core, langchain-text-splitters\n",
            "  Attempting uninstall: langchain-core\n",
            "    Found existing installation: langchain-core 1.0.1\n",
            "    Uninstalling langchain-core-1.0.1:\n",
            "      Successfully uninstalled langchain-core-1.0.1\n",
            "  Attempting uninstall: langchain-text-splitters\n",
            "    Found existing installation: langchain-text-splitters 1.0.0\n",
            "    Uninstalling langchain-text-splitters-1.0.0:\n",
            "      Successfully uninstalled langchain-text-splitters-1.0.0\n",
            "\u001b[31mERROR: pip's dependency resolver does not currently take into account all the packages that are installed. This behaviour is the source of the following dependency conflicts.\n",
            "langchain-community 0.4.1 requires langchain-core<2.0.0,>=1.0.1, but you have langchain-core 0.3.79 which is incompatible.\n",
            "langchain-classic 1.0.0 requires langchain-core<2.0.0,>=1.0.0, but you have langchain-core 0.3.79 which is incompatible.\n",
            "langchain-classic 1.0.0 requires langchain-text-splitters<2.0.0,>=1.0.0, but you have langchain-text-splitters 0.3.11 which is incompatible.\u001b[0m\u001b[31m\n",
            "\u001b[0mSuccessfully installed langchain-core-0.3.79 langchain-text-splitters-0.3.11\n",
            "Requirement already satisfied: langchain_upstage in /usr/local/lib/python3.12/dist-packages (0.7.4)\n",
            "Requirement already satisfied: langchain-core<0.4.0,>=0.3.78 in /usr/local/lib/python3.12/dist-packages (from langchain_upstage) (0.3.79)\n",
            "Requirement already satisfied: langchain-openai<0.4.0,>=0.3.34 in /usr/local/lib/python3.12/dist-packages (from langchain_upstage) (0.3.35)\n",
            "Requirement already satisfied: pypdf<5.0.0,>=4.2.0 in /usr/local/lib/python3.12/dist-packages (from langchain_upstage) (4.3.1)\n",
            "Requirement already satisfied: requests<3.0.0,>=2.31.0 in /usr/local/lib/python3.12/dist-packages (from langchain_upstage) (2.32.5)\n",
            "Requirement already satisfied: tokenizers<0.21.0,>=0.20.0 in /usr/local/lib/python3.12/dist-packages (from langchain_upstage) (0.20.3)\n",
            "Requirement already satisfied: langsmith<1.0.0,>=0.3.45 in /usr/local/lib/python3.12/dist-packages (from langchain-core<0.4.0,>=0.3.78->langchain_upstage) (0.4.38)\n",
            "Requirement already satisfied: tenacity!=8.4.0,<10.0.0,>=8.1.0 in /usr/local/lib/python3.12/dist-packages (from langchain-core<0.4.0,>=0.3.78->langchain_upstage) (8.5.0)\n",
            "Requirement already satisfied: jsonpatch<2.0.0,>=1.33.0 in /usr/local/lib/python3.12/dist-packages (from langchain-core<0.4.0,>=0.3.78->langchain_upstage) (1.33)\n",
            "Requirement already satisfied: PyYAML<7.0.0,>=5.3.0 in /usr/local/lib/python3.12/dist-packages (from langchain-core<0.4.0,>=0.3.78->langchain_upstage) (6.0.3)\n",
            "Requirement already satisfied: typing-extensions<5.0.0,>=4.7.0 in /usr/local/lib/python3.12/dist-packages (from langchain-core<0.4.0,>=0.3.78->langchain_upstage) (4.15.0)\n",
            "Requirement already satisfied: packaging<26.0.0,>=23.2.0 in /usr/local/lib/python3.12/dist-packages (from langchain-core<0.4.0,>=0.3.78->langchain_upstage) (25.0)\n",
            "Requirement already satisfied: pydantic<3.0.0,>=2.7.4 in /usr/local/lib/python3.12/dist-packages (from langchain-core<0.4.0,>=0.3.78->langchain_upstage) (2.11.10)\n",
            "Requirement already satisfied: openai<3.0.0,>=1.104.2 in /usr/local/lib/python3.12/dist-packages (from langchain-openai<0.4.0,>=0.3.34->langchain_upstage) (1.109.1)\n",
            "Requirement already satisfied: tiktoken<1.0.0,>=0.7.0 in /usr/local/lib/python3.12/dist-packages (from langchain-openai<0.4.0,>=0.3.34->langchain_upstage) (0.12.0)\n",
            "Requirement already satisfied: charset_normalizer<4,>=2 in /usr/local/lib/python3.12/dist-packages (from requests<3.0.0,>=2.31.0->langchain_upstage) (3.4.4)\n",
            "Requirement already satisfied: idna<4,>=2.5 in /usr/local/lib/python3.12/dist-packages (from requests<3.0.0,>=2.31.0->langchain_upstage) (3.11)\n",
            "Requirement already satisfied: urllib3<3,>=1.21.1 in /usr/local/lib/python3.12/dist-packages (from requests<3.0.0,>=2.31.0->langchain_upstage) (2.5.0)\n",
            "Requirement already satisfied: certifi>=2017.4.17 in /usr/local/lib/python3.12/dist-packages (from requests<3.0.0,>=2.31.0->langchain_upstage) (2025.10.5)\n",
            "Requirement already satisfied: huggingface-hub<1.0,>=0.16.4 in /usr/local/lib/python3.12/dist-packages (from tokenizers<0.21.0,>=0.20.0->langchain_upstage) (0.36.0)\n",
            "Requirement already satisfied: filelock in /usr/local/lib/python3.12/dist-packages (from huggingface-hub<1.0,>=0.16.4->tokenizers<0.21.0,>=0.20.0->langchain_upstage) (3.20.0)\n",
            "Requirement already satisfied: fsspec>=2023.5.0 in /usr/local/lib/python3.12/dist-packages (from huggingface-hub<1.0,>=0.16.4->tokenizers<0.21.0,>=0.20.0->langchain_upstage) (2025.3.0)\n",
            "Requirement already satisfied: tqdm>=4.42.1 in /usr/local/lib/python3.12/dist-packages (from huggingface-hub<1.0,>=0.16.4->tokenizers<0.21.0,>=0.20.0->langchain_upstage) (4.67.1)\n",
            "Requirement already satisfied: hf-xet<2.0.0,>=1.1.3 in /usr/local/lib/python3.12/dist-packages (from huggingface-hub<1.0,>=0.16.4->tokenizers<0.21.0,>=0.20.0->langchain_upstage) (1.2.0)\n",
            "Requirement already satisfied: jsonpointer>=1.9 in /usr/local/lib/python3.12/dist-packages (from jsonpatch<2.0.0,>=1.33.0->langchain-core<0.4.0,>=0.3.78->langchain_upstage) (3.0.0)\n",
            "Requirement already satisfied: httpx<1,>=0.23.0 in /usr/local/lib/python3.12/dist-packages (from langsmith<1.0.0,>=0.3.45->langchain-core<0.4.0,>=0.3.78->langchain_upstage) (0.28.1)\n",
            "Requirement already satisfied: orjson>=3.9.14 in /usr/local/lib/python3.12/dist-packages (from langsmith<1.0.0,>=0.3.45->langchain-core<0.4.0,>=0.3.78->langchain_upstage) (3.11.4)\n",
            "Requirement already satisfied: requests-toolbelt>=1.0.0 in /usr/local/lib/python3.12/dist-packages (from langsmith<1.0.0,>=0.3.45->langchain-core<0.4.0,>=0.3.78->langchain_upstage) (1.0.0)\n",
            "Requirement already satisfied: zstandard>=0.23.0 in /usr/local/lib/python3.12/dist-packages (from langsmith<1.0.0,>=0.3.45->langchain-core<0.4.0,>=0.3.78->langchain_upstage) (0.25.0)\n",
            "Requirement already satisfied: anyio<5,>=3.5.0 in /usr/local/lib/python3.12/dist-packages (from openai<3.0.0,>=1.104.2->langchain-openai<0.4.0,>=0.3.34->langchain_upstage) (4.11.0)\n",
            "Requirement already satisfied: distro<2,>=1.7.0 in /usr/local/lib/python3.12/dist-packages (from openai<3.0.0,>=1.104.2->langchain-openai<0.4.0,>=0.3.34->langchain_upstage) (1.9.0)\n",
            "Requirement already satisfied: jiter<1,>=0.4.0 in /usr/local/lib/python3.12/dist-packages (from openai<3.0.0,>=1.104.2->langchain-openai<0.4.0,>=0.3.34->langchain_upstage) (0.11.1)\n",
            "Requirement already satisfied: sniffio in /usr/local/lib/python3.12/dist-packages (from openai<3.0.0,>=1.104.2->langchain-openai<0.4.0,>=0.3.34->langchain_upstage) (1.3.1)\n",
            "Requirement already satisfied: annotated-types>=0.6.0 in /usr/local/lib/python3.12/dist-packages (from pydantic<3.0.0,>=2.7.4->langchain-core<0.4.0,>=0.3.78->langchain_upstage) (0.7.0)\n",
            "Requirement already satisfied: pydantic-core==2.33.2 in /usr/local/lib/python3.12/dist-packages (from pydantic<3.0.0,>=2.7.4->langchain-core<0.4.0,>=0.3.78->langchain_upstage) (2.33.2)\n",
            "Requirement already satisfied: typing-inspection>=0.4.0 in /usr/local/lib/python3.12/dist-packages (from pydantic<3.0.0,>=2.7.4->langchain-core<0.4.0,>=0.3.78->langchain_upstage) (0.4.2)\n",
            "Requirement already satisfied: regex>=2022.1.18 in /usr/local/lib/python3.12/dist-packages (from tiktoken<1.0.0,>=0.7.0->langchain-openai<0.4.0,>=0.3.34->langchain_upstage) (2024.11.6)\n",
            "Requirement already satisfied: httpcore==1.* in /usr/local/lib/python3.12/dist-packages (from httpx<1,>=0.23.0->langsmith<1.0.0,>=0.3.45->langchain-core<0.4.0,>=0.3.78->langchain_upstage) (1.0.9)\n",
            "Requirement already satisfied: h11>=0.16 in /usr/local/lib/python3.12/dist-packages (from httpcore==1.*->httpx<1,>=0.23.0->langsmith<1.0.0,>=0.3.45->langchain-core<0.4.0,>=0.3.78->langchain_upstage) (0.16.0)\n",
            "Requirement already satisfied: langchain_core in /usr/local/lib/python3.12/dist-packages (0.3.79)\n",
            "Requirement already satisfied: langsmith<1.0.0,>=0.3.45 in /usr/local/lib/python3.12/dist-packages (from langchain_core) (0.4.38)\n",
            "Requirement already satisfied: tenacity!=8.4.0,<10.0.0,>=8.1.0 in /usr/local/lib/python3.12/dist-packages (from langchain_core) (8.5.0)\n",
            "Requirement already satisfied: jsonpatch<2.0.0,>=1.33.0 in /usr/local/lib/python3.12/dist-packages (from langchain_core) (1.33)\n",
            "Requirement already satisfied: PyYAML<7.0.0,>=5.3.0 in /usr/local/lib/python3.12/dist-packages (from langchain_core) (6.0.3)\n",
            "Requirement already satisfied: typing-extensions<5.0.0,>=4.7.0 in /usr/local/lib/python3.12/dist-packages (from langchain_core) (4.15.0)\n",
            "Requirement already satisfied: packaging<26.0.0,>=23.2.0 in /usr/local/lib/python3.12/dist-packages (from langchain_core) (25.0)\n",
            "Requirement already satisfied: pydantic<3.0.0,>=2.7.4 in /usr/local/lib/python3.12/dist-packages (from langchain_core) (2.11.10)\n",
            "Requirement already satisfied: jsonpointer>=1.9 in /usr/local/lib/python3.12/dist-packages (from jsonpatch<2.0.0,>=1.33.0->langchain_core) (3.0.0)\n",
            "Requirement already satisfied: httpx<1,>=0.23.0 in /usr/local/lib/python3.12/dist-packages (from langsmith<1.0.0,>=0.3.45->langchain_core) (0.28.1)\n",
            "Requirement already satisfied: orjson>=3.9.14 in /usr/local/lib/python3.12/dist-packages (from langsmith<1.0.0,>=0.3.45->langchain_core) (3.11.4)\n",
            "Requirement already satisfied: requests-toolbelt>=1.0.0 in /usr/local/lib/python3.12/dist-packages (from langsmith<1.0.0,>=0.3.45->langchain_core) (1.0.0)\n",
            "Requirement already satisfied: requests>=2.0.0 in /usr/local/lib/python3.12/dist-packages (from langsmith<1.0.0,>=0.3.45->langchain_core) (2.32.5)\n",
            "Requirement already satisfied: zstandard>=0.23.0 in /usr/local/lib/python3.12/dist-packages (from langsmith<1.0.0,>=0.3.45->langchain_core) (0.25.0)\n",
            "Requirement already satisfied: annotated-types>=0.6.0 in /usr/local/lib/python3.12/dist-packages (from pydantic<3.0.0,>=2.7.4->langchain_core) (0.7.0)\n",
            "Requirement already satisfied: pydantic-core==2.33.2 in /usr/local/lib/python3.12/dist-packages (from pydantic<3.0.0,>=2.7.4->langchain_core) (2.33.2)\n",
            "Requirement already satisfied: typing-inspection>=0.4.0 in /usr/local/lib/python3.12/dist-packages (from pydantic<3.0.0,>=2.7.4->langchain_core) (0.4.2)\n",
            "Requirement already satisfied: anyio in /usr/local/lib/python3.12/dist-packages (from httpx<1,>=0.23.0->langsmith<1.0.0,>=0.3.45->langchain_core) (4.11.0)\n",
            "Requirement already satisfied: certifi in /usr/local/lib/python3.12/dist-packages (from httpx<1,>=0.23.0->langsmith<1.0.0,>=0.3.45->langchain_core) (2025.10.5)\n",
            "Requirement already satisfied: httpcore==1.* in /usr/local/lib/python3.12/dist-packages (from httpx<1,>=0.23.0->langsmith<1.0.0,>=0.3.45->langchain_core) (1.0.9)\n",
            "Requirement already satisfied: idna in /usr/local/lib/python3.12/dist-packages (from httpx<1,>=0.23.0->langsmith<1.0.0,>=0.3.45->langchain_core) (3.11)\n",
            "Requirement already satisfied: h11>=0.16 in /usr/local/lib/python3.12/dist-packages (from httpcore==1.*->httpx<1,>=0.23.0->langsmith<1.0.0,>=0.3.45->langchain_core) (0.16.0)\n",
            "Requirement already satisfied: charset_normalizer<4,>=2 in /usr/local/lib/python3.12/dist-packages (from requests>=2.0.0->langsmith<1.0.0,>=0.3.45->langchain_core) (3.4.4)\n",
            "Requirement already satisfied: urllib3<3,>=1.21.1 in /usr/local/lib/python3.12/dist-packages (from requests>=2.0.0->langsmith<1.0.0,>=0.3.45->langchain_core) (2.5.0)\n",
            "Requirement already satisfied: sniffio>=1.1 in /usr/local/lib/python3.12/dist-packages (from anyio->httpx<1,>=0.23.0->langsmith<1.0.0,>=0.3.45->langchain_core) (1.3.1)\n"
          ]
        }
      ],
      "source": [
        "!pip install gradio -q\n",
        "!pip install langchain_community\n",
        "!pip install langchain\n",
        "!pip install langchain_upstage\n",
        "!pip install langchain_core"
      ]
    },
    {
      "cell_type": "markdown",
      "metadata": {
        "id": "3830533b"
      },
      "source": [
        "## AI Agent 실전 응용: Gradio로 나만의 챗봇 만들기 실습 가이드\n",
        "\n",
        "### 실습 개요\n",
        "\n",
        "본 실습은 지난 차시에서 개발한 '민원 해결사 CS Agent'를 기반으로, Python 웹 프레임워크인 Gradio를 활용하여 사용자와 실시간으로 소통하는 인터랙티브 웹 챗봇 인터페이스를 구축하는 과정입니다. 터미널 환경에서 벗어나 웹 UI를 통해 Agent의 기능을 활용하고, 사용자와의 상호작용 및 Agent의 '생각 과정'을 시각화함으로써 AI Agent가 실제 서비스로 구현되는 방식을 경험합니다. 가상의 'AI 온라인 서점' 시나리오를 통해 실제 서비스 개발과 유사한 경험을 제공합니다.\n",
        "\n",
        "### 실습 진행 목적 및 배경\n",
        "\n",
        "최근 AI 기술의 발전과 함께 Agent 기반 시스템의 활용이 늘어나고 있습니다. 하지만 Agent가 사용자에게 직접 서비스를 제공하기 위해서는 직관적이고 사용하기 쉬운 인터페이스가 필수적입니다. 본 실습은 사용자들이 Agent와 쉽게 소통할 수 있는 웹 기반 챗봇 인터페이스를 Gradio로 빠르게 구축하고, Agent의 내부 '생각 과정(Thought)' 및 구조화된 출력을 사용자에게 투명하게 보여줌으로써 AI 시스템에 대한 신뢰를 높이는 방법을 학습하는 데 목적이 있습니다.\n",
        "\n",
        "### 실습 수행으로 얻어갈 수 있는 역량\n",
        "\n",
        "*   **Gradio를 활용한 웹 UI 개발 능력:** Gradio의 핵심 컴포넌트(`gr.Chatbot`, `gr.Textbox`, `gr.JSON`, `gr.Blocks`)를 사용하여 데이터 기반 애플리케이션 및 챗봇과 같은 인터랙티브 웹 인터페이스를 빠르게 구축하는 능력을 습득합니다.\n",
        "*   **AI Agent와 웹 UI 연동 경험:** 개발된 AI Agent 로직을 웹 프론트엔드와 연결하여 서비스 가능한 형태로 만드는 실무 경험을 쌓습니다. Gradio의 이벤트 핸들링(`.click()`, `.submit()`)을 사용하여 사용자 입력과 Agent 호출을 연결하는 방법을 배웁니다.\n",
        "*   **Agent의 투명성 확보 방법 학습:** Agent의 추론 과정(Thought, Action, Observation) 및 최종 구조화된 출력(JSON/MCP)을 Gradio 컴포넌트를 통해 시각적으로 제공하여 시스템의 신뢰성을 높이는 방법을 이해하고 적용합니다. Gradio의 `yield`를 사용하여 비동기적인 UI 업데이트를 구현하는 방법을 익힙니다.\n",
        "*   **Gradio Blocks를 사용한 레이아웃 구성:** `gr.Blocks`를 사용하여 여러 Gradio 컴포넌트를 조합하고 복잡한 레이아웃을 구성하여 챗봇과 부가 정보(Agent 생각 과정, JSON 출력)를 함께 표시하는 방법을 학습합니다.\n",
        "\n",
        "### 실습 핵심 내용\n",
        "\n",
        "*   Gradio 기본 UI 컴포넌트 (`gr.Chatbot`, `gr.Textbox`, `gr.Blocks`, `gr.JSON`) 활용\n",
        "*   Agent 로직을 Gradio 애플리케이션으로 `import` 및 연동\n",
        "*   Python 함수 내에서 Agent 로딩 및 캐싱 구현\n",
        "*   사용자 입력에 따라 Agent 호출 및 응답 생성 (`agent.invoke()`)\n",
        "*   Agent의 '생각 과정' (Intermediate Steps) 파싱 및 `gr.Textbox`로 시각화\n",
        "*   Agent의 최종 출력 중 JSON 형식을 `gr.JSON`으로 시각화\n",
        "*   Gradio `Blocks` 및 이벤트 핸들링(`.click()`, `.submit()`)을 사용한 UI 로직 연결\n",
        "*   Gradio `yield`를 사용한 UI 업데이트\n",
        "*   Gradio 애플리케이션 실행 및 Colab 환경에서의 외부 접근 (`share=True`)\n",
        "\n",
        "* * *\n",
        "\n",
        "## AI Agent 실전 응용: Gradio로 나만의 챗봇 만들기 실습 목차\n",
        "\n",
        "### 전체 목차\n",
        "\n",
        "*   **실습 1: 챗봇의 '얼굴' 만들기 (Gradio 기본 UI 구성)**\n",
        "    *   Gradio 기본 구조 이해 (`gr.ChatInterface` 또는 `gr.Blocks`)\n",
        "    *   챗봇 메시지 표시 영역 (`gr.Chatbot`) 및 사용자 입력창 (`gr.Textbox`) 구성\n",
        "    *   `gr.ChatInterface`의 기본 대화 관리 방식 이해\n",
        "*   **실습 2: Agent의 '두뇌'와 '얼굴' 연결하기 (Agent 연동)**\n",
        "    *   이전 실습 Agent 로직 `import` (`CustomerServiceAgent` 클래스)\n",
        "    *   Python 함수 내에서 Agent 객체 캐싱 로딩 구현\n",
        "    *   Gradio 이벤트 핸들러(예: `.submit()`, `.click()`)에서 Agent 호출 (`agent.invoke()`)\n",
        "    *   Agent 응답을 Gradio 챗봇에 표시\n",
        "\n",
        "* **실습 내용: 완성된 챗봇의 작동 모습을 시연하고 결과물을 확인합니다.**\n",
        "    * 챗봇을 실행합니다.\n",
        "    * \"안녕하세요?\" 같은 간단한 인사로 시작합니다.\n",
        "    * \"책 배송이 너무 늦어요. 주문 12345 취소하고 보상해주세요. 그리고 쿠폰도 주세요.\"와 같은 복합적인 민원을 입력합니다.\n",
        "    * Agent가 실시간으로 생각하는 과정(st.status)과 최종 MCP(st.json) 또는 답변을 출력하는 전체 과정을 확인합니다.\n",
        "\n",
        "* **챗봇 개선 및 확장 (선택 사항)**\n",
        "    *   사용자 경험(UX) 개선 (예: 로딩 인디케이터 커스터마이징)\n",
        "    *   에러 처리 강화 및 UI 피드백 개선\n",
        "    *   더 복잡한 자연어 처리 모델 연동\n",
        "    *   Gradio 애플리케이션 배포 맛보기"
      ]
    },
    {
      "cell_type": "markdown",
      "metadata": {
        "id": "zIzN5Lwip1at"
      },
      "source": [
        "## 실습 1: 챗봇의 '얼굴' 만들기 (Gradio 기본 UI 구성)\n",
        "\n",
        "본 실습에서는 Gradio의 핵심 컴포넌트를 사용하여 챗봇 애플리케이션의 기본적인 사용자 인터페이스를 구축합니다. 사용자와 챗봇 메시지를 표시할 영역을 만들고, 사용자의 입력을 받는 입력창을 구현합니다. Gradio의 `gr.ChatInterface`를 사용하면 기본적인 대화 UI와 상태 관리가 자동으로 처리됩니다. 또는 `gr.Blocks`를 사용하여 컴포넌트 레이아웃을 직접 제어할 수도 있습니다. 실습 1에서는 `gr.ChatInterface`를 사용하여 간단히 구현하고, 이후 실습에서 `gr.Blocks`로 전환하여 추가 시각화 컴포넌트를 배치할 것입니다.\n",
        "\n",
        "### 학습 키워드 설명\n",
        "\n",
        "*   **`Gradio`**: Python 함수를 몇 줄의 코드로 공유 가능한 웹 UI로 빠르게 변환할 수 있는 오픈 소스 라이브러리입니다. 머신러닝 모델의 데모 구축에 널리 사용되지만, 간단한 웹 서비스나 챗봇 UI를 만드는 데도 매우 유용합니다.\n",
        "*   **`Web Interface`**: 사용자가 소프트웨어 시스템과 상호작용하기 위해 사용하는 시각적인 요소와 컨트롤(버튼, 입력 필드, 텍스트 등)의 집합입니다. 웹 브라우저를 통해 접근 가능하며, 사용자의 입력을 받고 시스템의 결과를 표시하는 역할을 합니다. 챗봇의 경우, 사용자가 메시지를 입력하고 챗봇의 답변을 볼 수 있는 화면이 웹 인터페이스입니다.\n",
        "*   **`gr.ChatInterface`**: Gradio에서 챗봇 애플리케이션을 쉽게 구축할 수 있도록 미리 구성된 인터페이스 컴포넌트입니다. `fn` 인자에 사용자 입력 처리 함수를 연결하면, 메시지 입력, 대화 기록 표시, 히스토리 관리 등의 기본적인 챗봇 기능을 자동으로 제공합니다.\n",
        "*   **`gr.Chatbot`**: 챗봇 대화 기록을 표시하는 데 사용되는 Gradio 컴포넌트입니다. `gr.ChatInterface` 내부에 포함되어 사용되거나, `gr.Blocks`에서 독립적으로 사용될 수 있습니다. 사용자 메시지와 챗봇 메시지를 구분하여 표시합니다.\n",
        "*   **`gr.Textbox`**: 사용자가 텍스트를 입력하거나 텍스트를 출력하는 데 사용되는 Gradio 컴포넌트입니다. 챗봇 인터페이스에서는 주로 사용자 입력창으로 활용됩니다. `gr.ChatInterface` 내부에 입력창으로 포함되거나, `gr.Blocks`에서 독립적으로 배치될 수 있습니다.\n",
        "*   **`history` 인자 (in Gradio functions)**: `gr.ChatInterface`의 `fn`에 연결된 함수는 첫 번째 인자로 사용자 입력 메시지(string)를 받고, 두 번째 인자로 현재까지의 대화 기록(list of `[user_message, bot_message]` 쌍)을 받습니다. 함수는 업데이트된 대화 기록을 반환해야 합니다.\n",
        "\n",
        "### 실습 방식\n",
        "\n",
        "1.  **`app.py` 파일 수정:** 기존에 생성된 `app.py` 파일의 내용을 아래 제공된 템플릿 코드로 변경합니다.\n",
        "2.  **`TODO` 위치에 코드 작성:** 템플릿 코드 내에 표시된 `TODO` 위치에 맞춰 다음 코드를 작성합니다."
      ]
    },
    {
      "cell_type": "code",
      "execution_count": 3,
      "metadata": {
        "colab": {
          "base_uri": "https://localhost:8080/",
          "height": 651
        },
        "id": "9FizmErsMIFM",
        "outputId": "2ddac5ab-8e8b-4739-cb38-5a4481353e68"
      },
      "outputs": [
        {
          "output_type": "stream",
          "name": "stdout",
          "text": [
            "It looks like you are running Gradio on a hosted Jupyter notebook, which requires `share=True`. Automatically setting `share=True` (you can turn this off by setting `share=False` in `launch()` explicitly).\n",
            "\n",
            "Colab notebook detected. To show errors in colab notebook, set debug=True in launch()\n",
            "* Running on public URL: https://91bc0908bd6c4d2720.gradio.live\n",
            "\n",
            "This share link expires in 1 week. For free permanent hosting and GPU upgrades, run `gradio deploy` from the terminal in the working directory to deploy to Hugging Face Spaces (https://huggingface.co/spaces)\n"
          ]
        },
        {
          "output_type": "display_data",
          "data": {
            "text/plain": [
              "<IPython.core.display.HTML object>"
            ],
            "text/html": [
              "<div><iframe src=\"https://91bc0908bd6c4d2720.gradio.live\" width=\"100%\" height=\"500\" allow=\"autoplay; camera; microphone; clipboard-read; clipboard-write;\" frameborder=\"0\" allowfullscreen></iframe></div>"
            ]
          },
          "metadata": {}
        },
        {
          "output_type": "execute_result",
          "data": {
            "text/plain": []
          },
          "metadata": {},
          "execution_count": 3
        }
      ],
      "source": [
        "import gradio as gr\n",
        "\n",
        "# TODO 3 : 이전 대화 기록 및 응답 설정\n",
        "def chat(message, history):\n",
        "    turns = len(history) if history else 0\n",
        "    return f\"(이전 대화 {turns}턴) 방금 하신 말씀: {message}\"\n",
        "\n",
        "gr.ChatInterface(chat,\n",
        "                #TODO 1 : 제목설정\n",
        "                title=\"간단 에코 챗봇\",\n",
        "                #TODO 2 :초기 메세지 설정\n",
        "                description=\"안녕하세요! 메시지를 입력하면 이전 대화 턴 수와 함께 그대로 돌려드립니다 🙂\").launch()"
      ]
    },
    {
      "cell_type": "markdown",
      "metadata": {
        "id": "e5382c27"
      },
      "source": [
        "\n",
        "## 실습 2: Agent의 '두뇌'와 '얼굴' 연결하기 (Agent 연동)\n",
        "\n",
        "본 실습에서는 이전 차시에서 개발한 '민원 해결사 Agent'의 로직을 Gradio 애플리케이션에 통합합니다. 사용자가 챗봇 UI를 통해 질문을 입력하면, Gradio 앱의 이벤트 핸들러가 이 입력을 감지하여 Agent 호출 함수를 실행하고, Agent가 생성한 답변을 받아 다시 Gradio 챗봇 컴포넌트에 표시하도록 연결합니다. Agent 객체는 로딩 시간이 오래 걸릴 수 있으므로, 애플리케이션 실행 중 한 번만 로드되도록 Python 함수 내에서 캐싱하는 방법을 사용합니다.\n",
        "\n",
        "### 학습 키워드 설명\n",
        "\n",
        "*   **`Agent 기능 연동`**: 별도로 구현된 AI Agent의 핵심 로직(여기서는 `CustomerServiceAgent` 클래스의 인스턴스)을 다른 애플리케이션(여기서는 Gradio 웹 앱)에 통합하여 사용하는 과정입니다.\n",
        "*   **`import`**: Python 모듈 시스템에서 다른 파일이나 패키지에 정의된 함수, 클래스, 변수 등을 현재 파일로 가져와 사용할 수 있게 하는 구문입니다. 이전 실습에서 작성한 Agent 코드를 `app.py`로 가져오는 데 사용합니다.\n",
        "*   **`Python 함수 내 캐싱`**: Gradio 앱이 다시 로드될 때 Agent 객체가 불필요하게 여러 번 생성되는 것을 방지하여 성능을 최적화하기 위해, 일반 Python 함수 스코프 또는 전역 변수를 활용하여 객체를 한 번만 생성하고 재사용하는 기법입니다.\n",
        "*   **`gr.ChatInterface`의 `fn` 인자**: `gr.ChatInterface`를 사용할 때, 사용자가 메시지를 입력하고 제출할 때 호출될 Python 함수를 지정합니다. 이 함수는 사용자 메시지와 현재 대화 기록을 인자로 받고, 업데이트된 대화 기록을 반환해야 합니다.\n",
        "*   **`agent.invoke()`**: LangChain Agent Executor 객체의 메서드입니다. 사용자 입력(프롬프트)을 인자로 받아 Agent의 실행을 시작하고, Agent가 작업을 완료한 후 최종 결과(답변, 중간 단계 등)를 반환합니다. Gradio 앱에서는 사용자 입력이 발생했을 때 `fn`에 연결된 함수 내에서 이 메서드를 호출하여 Agent의 답변을 얻습니다.\n",
        "*   **`result['output']`**: `agent.invoke()` 호출 결과로 반환되는 딕셔너리에서 Agent의 최종 답변 텍스트를 포함하는 키입니다. 이 값을 추출하여 챗봇 응답으로 사용자에게 표시합니다.\n",
        "\n",
        "### 실습 방식\n",
        "\n",
        "1.  **Agent 코드 준비:** 이전 차시에서 완성한 '민원 해결사 Agent'의 Python 코드가 `cs_agent.py` 파일로 저장되어 있는지 확인합니다. 이 파일에는 `CustomerServiceAgent` 클래스가 포함되어 있어야 합니다.\n",
        "2.  **Agent 클래스 import:** `from cs_agent import CustomerServiceAgent`와 같이 Agent 클래스를 import 하는 코드를 `TODO 1` 위치에 작성합니다.\n",
        "3.  **Python 함수 내에서 Agent 객체 캐싱 구현:** `CustomerServiceAgent` 클래스의 인스턴스를 생성하고 반환하는 함수(`get_agent_instance`)를 정의합니다. 이 함수는 전역 변수 등을 활용하여 Agent 인스턴스가 이미 생성되었는지 확인하고, 생성되지 않았다면 새로 만들고 저장한 후 반환하도록 구현합니다. 이 코드를 `TODO 2` 위치에 완성합니다.\n",
        "4.  **`gr.ChatInterface`의 `fn` 함수 수정:** 실습 1에서 작성한 `respond` 함수를 수정하여, 사용자 입력(`message`)이 발생했을 때 `get_agent_instance()`를 호출하여 Agent 객체를 가져오고, `agent.invoke({\"input\": message})`를 호출하여 Agent의 응답(`result`)을 받습니다. 이 코드를 `TODO 3` 위치에 작성합니다.\n",
        "5.  **Agent 응답을 대화 기록에 추가:** `agent.invoke()` 호출 결과에서 최종 답변(`result['output']`)을 추출하여, Gradio의 `history` 형식([user_message, bot_message] 쌍의 리스트)에 맞게 새로운 메시지 쌍을 추가하고 업데이트된 `history`를 반환하는 코드를 `TODO 4` 위치에 완성합니다."
      ]
    },
    {
      "cell_type": "markdown",
      "metadata": {
        "id": "OpEAmt7ioz8h"
      },
      "source": [
        "#### `reward_policy.txt` 파일 준비\n",
        "\n",
        "YES24의 정책에 관한 PDF 문서에서 보상 정책만을 텍스트로 추출합니다."
      ]
    },
    {
      "cell_type": "code",
      "execution_count": 4,
      "metadata": {
        "colab": {
          "base_uri": "https://localhost:8080/"
        },
        "id": "IgH76WFeXwEG",
        "outputId": "c587fe95-a476-41a7-e4e7-85b6b7e23c7d"
      },
      "outputs": [
        {
          "output_type": "stream",
          "name": "stdout",
          "text": [
            "Drive already mounted at /content/drive; to attempt to forcibly remount, call drive.mount(\"/content/drive\", force_remount=True).\n"
          ]
        }
      ],
      "source": [
        "from google.colab import drive\n",
        "drive.mount('/content/drive')"
      ]
    },
    {
      "cell_type": "code",
      "execution_count": 5,
      "metadata": {
        "colab": {
          "base_uri": "https://localhost:8080/"
        },
        "id": "Lo2JS6OUouU1",
        "outputId": "b5a69a34-1cb3-4527-9523-4e943cd10c83"
      },
      "outputs": [
        {
          "output_type": "stream",
          "name": "stdout",
          "text": [
            "--- './' 경로에서 찾은 PDF 파일 목록: [] ---\n",
            "'./shipping_policy.txt' 파일 로드 완료. 1 문서 로드됨.\n",
            "\n",
            "--- 모든 파일에서 로드된 총 문서 정보 ---\n",
            "총 문서 개수: 1\n",
            "첫 번째 문서 내용 (일부): # AI 온라인 서점 배송 정책\n",
            "\n",
            "## 일반 배송\n",
            "- 평일 오후 3시 이전 주문 시 당일 발송됩니다.\n",
            "- 오후 3시 이후 주문 건은 익일 발송됩니다.\n",
            "- 주말 및 공휴일은 배송이 어렵습니다.\n",
            "\n",
            "## 도서 산간 지역 배송\n",
            "- 제주 및 도서 산간 지역은 추가 배송비가 발생할 수 있습니다.\n",
            "- 추가 배송비 및 예상 소요 시간은 주문 시 확인 가능합니다.\n",
            "\n",
            "## ...\n",
            "첫 번째 문서 메타데이터: {'source': './shipping_policy.txt'}\n",
            "--------------------\n"
          ]
        }
      ],
      "source": [
        "import glob # 파일을 검색하기 위한 glob 모듈을 가져옵니다.\n",
        "from langchain_community.document_loaders import TextLoader\n",
        "from langchain_community.document_loaders import PyMuPDFLoader\n",
        "\n",
        "# './' 경로에 있는 모든 PDF 파일을 찾습니다.\n",
        "pdf_files = glob.glob('/content/drive/*.pdf')\n",
        "\n",
        "all_documents = [] # 모든 PDF 파일에서 로드된 문서를 저장할 빈 리스트를 생성합니다.\n",
        "\n",
        "print(f\"--- './' 경로에서 찾은 PDF 파일 목록: {pdf_files} ---\")\n",
        "\n",
        "# 찾은 각 PDF 파일에 대해 로드 및 파싱을 수행합니다.\n",
        "for pdf_filepath in pdf_files:\n",
        "    try:\n",
        "        #loader = PyPDFLoader(pdf_filepath)\n",
        "        loader = PyMuPDFLoader(pdf_filepath)\n",
        "        pages = loader.load()\n",
        "        all_documents.extend(pages) # 로드된 페이지들을 all_documents 리스트에 추가합니다.\n",
        "        print(f\"'{pdf_filepath}' 파일 로드 완료. {len(pages)} 페이지 로드됨.\")\n",
        "    except Exception as e:\n",
        "        print(f\"'{pdf_filepath}' 파일 로드 중 오류 발생: {e}\")\n",
        "\n",
        "# shipping_policy.txt 파일도 로드하여 all_documents에 추가합니다.\n",
        "shipping_policy_file_path = './shipping_policy.txt'\n",
        "\n",
        "try:\n",
        "    # Create a TextLoader instance with the file path\n",
        "    loader = TextLoader(shipping_policy_file_path)\n",
        "\n",
        "    # Load the document\n",
        "    text_documents = loader.load()\n",
        "\n",
        "    # Extend all_documents with text file documents\n",
        "    all_documents.extend(text_documents)\n",
        "    print(f\"'{shipping_policy_file_path}' 파일 로드 완료. {len(text_documents)} 문서 로드됨.\")\n",
        "\n",
        "\n",
        "except FileNotFoundError:\n",
        "    print(f\"경로에 파일을 찾을 수 없습니다{shipping_policy_file_path}. \")\n",
        "except Exception as e:\n",
        "    print(f\"해당 경로에 오류가 발생했습니다{shipping_policy_file_path}: {e}\")\n",
        "\n",
        "\n",
        "# 모든 로드된 총 문서(PDF 페이지 + Text 문서) 정보 출력\n",
        "print(\"\\n--- 모든 파일에서 로드된 총 문서 정보 ---\")\n",
        "print(f\"총 문서 개수: {len(all_documents)}\")\n",
        "if all_documents:\n",
        "    print(f\"첫 번째 문서 내용 (일부): {all_documents[0].page_content[:200]}...\")\n",
        "    print(f\"첫 번째 문서 메타데이터: {all_documents[0].metadata}\")\n",
        "else:\n",
        "    print(\"로드된 문서가 없습니다.\")\n",
        "print(\"-\" * 20)\n",
        "\n",
        "# 다음 단계를 위해 변수 이름을 'documents'로 맞춥니다.\n",
        "documents = all_documents"
      ]
    },
    {
      "cell_type": "code",
      "execution_count": 6,
      "metadata": {
        "colab": {
          "base_uri": "https://localhost:8080/"
        },
        "id": "gygVC8pEo4Ip",
        "outputId": "c7ba750d-0a0a-4d02-8617-8ac4c515ff30"
      },
      "outputs": [
        {
          "output_type": "stream",
          "name": "stdout",
          "text": [
            "Overwriting shipping_policy.txt\n"
          ]
        }
      ],
      "source": [
        "%%writefile shipping_policy.txt\n",
        "# AI 온라인 서점 배송 정책\n",
        "\n",
        "## 일반 배송\n",
        "- 평일 오후 3시 이전 주문 시 당일 발송됩니다.\n",
        "- 오후 3시 이후 주문 건은 익일 발송됩니다.\n",
        "- 주말 및 공휴일은 배송이 어렵습니다.\n",
        "\n",
        "## 도서 산간 지역 배송\n",
        "- 제주 및 도서 산간 지역은 추가 배송비가 발생할 수 있습니다.\n",
        "- 추가 배송비 및 예상 소요 시간은 주문 시 확인 가능합니다.\n",
        "\n",
        "## 배송 조회\n",
        "- 주문 번호 order-123의 배송 상태는 마이페이지에서 조회 가능합니다.\n",
        "- 회원 및 비회원 모두 주문 번호로 배송 조회가 가능합니다.\n",
        "- 배송 관련 문의는 고객센터로 연락 주시기 바랍니다."
      ]
    },
    {
      "cell_type": "markdown",
      "metadata": {
        "id": "eNO8oDEbog2F"
      },
      "source": [
        "#### CS 에이전트 준비\n",
        "\n",
        "지난 단계에서 개발한 CS 에이전트를 준비합니다"
      ]
    },
    {
      "cell_type": "code",
      "execution_count": 7,
      "metadata": {
        "colab": {
          "base_uri": "https://localhost:8080/"
        },
        "id": "84ecec84",
        "outputId": "5a14f8b4-ca85-4315-f65b-ab9a08f3bf43"
      },
      "outputs": [
        {
          "output_type": "stream",
          "name": "stdout",
          "text": [
            "Overwriting cs_agent.py\n"
          ]
        }
      ],
      "source": [
        "%%writefile cs_agent.py\n",
        "# 필요한 라이브러리 임포트\n",
        "import os\n",
        "from typing import Any, Dict\n",
        "import warnings\n",
        "\n",
        "# LangChain 관련 임포트\n",
        "from langchain.agents import create_react_agent, AgentExecutor, Tool\n",
        "from langchain_core.prompts import ChatPromptTemplate\n",
        "from langchain.memory import ConversationBufferMemory\n",
        "from langchain_community.document_loaders import TextLoader, PyMuPDFLoader\n",
        "from langchain.text_splitter import CharacterTextSplitter\n",
        "from langchain_upstage import ChatUpstage, UpstageEmbeddings\n",
        "from langchain_community.vectorstores import Chroma\n",
        "\n",
        "warnings.filterwarnings(\"ignore\")\n",
        "\n",
        "class CustomerServiceAgent:\n",
        "    \"\"\"\n",
        "    AI 온라인 서점 민원 해결사 Agent 클래스.\n",
        "    Agent 및 필요한 구성 요소를 초기화하고 대화 기능을 제공합니다.\n",
        "    \"\"\"\n",
        "    def __init__(self, api_key: str | None = None):\n",
        "        \"\"\"Agent 및 필요한 구성 요소를 초기화하고 환경 설정을 수행합니다.\"\"\"\n",
        "        print(\"\\n--- CustomerServiceAgent 초기화 시작 ---\")\n",
        "\n",
        "        # (1) API Key 설정\n",
        "        if api_key and not os.environ.get(\"UPSTAGE_API_KEY\"):\n",
        "            os.environ[\"UPSTAGE_API_KEY\"] = api_key\n",
        "\n",
        "        # 1. LLM\n",
        "        self.llm = self._create_llm()\n",
        "        if self.llm is None:\n",
        "            warnings.warn(\"LLM 로드 실패. Agent가 제대로 작동하지 않을 수 있습니다.\")\n",
        "            self.agent_executor = None\n",
        "            return\n",
        "\n",
        "        # 2. RAG\n",
        "        self.retriever = self._setup_rag_vectorstore()\n",
        "        if self.retriever is None:\n",
        "            warnings.warn(\"RAG Vector Store 설정 실패. 정책 검색 도구가 비활성화됩니다.\")\n",
        "\n",
        "        # 3. 도구\n",
        "        self.tools = self._define_agent_tools(self.retriever)\n",
        "        if not self.tools:\n",
        "            warnings.warn(\"Agent 도구가 정의되지 않았습니다. Agent가 작동할 수 없습니다.\")\n",
        "            self.agent_executor = None\n",
        "            return\n",
        "\n",
        "        # 4. 메모리\n",
        "        self.memory = ConversationBufferMemory(memory_key=\"chat_history\", return_messages=True)\n",
        "\n",
        "        # 5. 프롬프트 (chat_history 반영!)\n",
        "        self.prompt_template = ChatPromptTemplate.from_messages([\n",
        "            (\"system\", self._get_system_prompt()),\n",
        "            (\"system\", \"이전 대화:\\n{chat_history}\"),\n",
        "            (\"human\", \"{input}\\n\\n{agent_scratchpad}\"),\n",
        "        ])\n",
        "\n",
        "        # 6. Agent Executor\n",
        "        self.agent_executor = self._create_agent_executor(\n",
        "            self.llm, self.tools, self.prompt_template, self.memory\n",
        "        )\n",
        "\n",
        "        if self.agent_executor:\n",
        "            print(\"CustomerServiceAgent 초기화 완료.\")\n",
        "        else:\n",
        "            print(\"경고: CustomerServiceAgent 초기화 실패!\")\n",
        "\n",
        "    # -------------------- 유틸/도구 --------------------\n",
        "    def _get_order_status(self, order_id: str):\n",
        "        print(f\"\\n[DEBUG] _get_order_status 호출: {order_id}\")\n",
        "        if order_id == \"ORDER123\": return \"Delivered\"\n",
        "        elif order_id == \"ORDER456\": return \"Shipping Delayed\"\n",
        "        elif order_id == \"ORDER789\": return \"Processing\"\n",
        "        else: return \"Order Not Found\"\n",
        "\n",
        "    def _issue_complaint_coupon(self, order_id: str):\n",
        "        print(f\"\\n[DEBUG] _issue_complaint_coupon 호출: {order_id}\")\n",
        "        order_status = self._get_order_status(order_id)\n",
        "        if order_status == \"Shipping Delayed\":\n",
        "            print(f\"모의: 지연된 주문 ID {order_id}에 대해 쿠폰 발급 완료.\")\n",
        "            return f\"주문 ID {order_id}에 대해 5,000원 할인 쿠폰이 발급되었습니다.\"\n",
        "        else:\n",
        "            print(f\"모의: 주문 ID {order_id} 상태 '{order_status}'는 쿠폰 발급 대상이 아닙니다.\")\n",
        "            return f\"주문 ID {order_id}는 쿠폰 발급 대상이 아닙니다. 현재 상태: {order_status}\"\n",
        "\n",
        "    # -------------------- RAG --------------------\n",
        "    def _setup_rag_vectorstore(self):\n",
        "        pdf_files = [\n",
        "            './신규 회원 혜택 | 서비스:혜택 - 예스24.pdf',\n",
        "            './매장 픽업 서비스 | 서비스:혜택 - 예스24.pdf',\n",
        "            './도서 품절 보상제도 | 예스24.pdf',\n",
        "            './무료배송+추가적립 | 서비스:혜택 - 예스24.pdf',\n",
        "            './배송지연 보상제도 | 서비스:혜택 - 예스24.pdf',\n",
        "            './총알배송 | 서비스:혜택 - 예스24.pdf',\n",
        "            './영원한 YES포인트 | 서비스:혜택 - 예스24.pdf',\n",
        "            './제휴 할인카드 | 서비스:혜택 - 예스24.pdf'\n",
        "        ]\n",
        "        shipping_policy_file_path = './shipping_policy.txt'\n",
        "\n",
        "        all_docs = []\n",
        "        try:\n",
        "            # PDF 로드\n",
        "            for pdf_filepath in pdf_files:\n",
        "                if os.path.exists(pdf_filepath):\n",
        "                    try:\n",
        "                        loader = PyMuPDFLoader(pdf_filepath)\n",
        "                        pages = loader.load()\n",
        "                        all_docs.extend(pages)\n",
        "                        print(f\"'{pdf_filepath}' 로드 완료. {len(pages)} 페이지 로드됨.\")\n",
        "                    except Exception as e:\n",
        "                        print(f\"경고: '{pdf_filepath}' 파일 로드 중 오류 발생: {e}\")\n",
        "                else:\n",
        "                    print(f\"경고: '{pdf_filepath}' 파일을 찾을 수 없습니다.\")\n",
        "\n",
        "            # Text 로드\n",
        "            if os.path.exists(shipping_policy_file_path):\n",
        "                try:\n",
        "                    shipping_loader = TextLoader(shipping_policy_file_path, encoding='utf-8')\n",
        "                    all_docs.extend(shipping_loader.load())\n",
        "                    print(f\"'{shipping_policy_file_path}' 로드 완료.\")\n",
        "                except Exception as e:\n",
        "                    print(f\"경고: '{shipping_policy_file_path}' 파일 로드 중 오류 발생: {e}\")\n",
        "\n",
        "            refund_policy_file_path = './refund_policy.txt'\n",
        "            if os.path.exists(refund_policy_file_path):\n",
        "                try:\n",
        "                    refund_loader = TextLoader(refund_policy_file_path, encoding='utf-8')\n",
        "                    all_docs.extend(refund_loader.load())\n",
        "                    print(f\"'{refund_policy_file_path}' 로드 완료.\")\n",
        "                except Exception as e:\n",
        "                    print(f\"경고: '{refund_policy_file_path}' 파일 로드 중 오류 발생: {e}\")\n",
        "            else:\n",
        "                print(f\"경고: '{refund_policy_file_path}' 파일을 찾을 수 없습니다. RAG에 포함되지 않습니다.\")\n",
        "\n",
        "            if not all_docs:\n",
        "                print(\"경고: RAG 문서를 로드하지 못했습니다. RAG 도구가 비활성화됩니다.\")\n",
        "                return None\n",
        "\n",
        "            text_splitter = CharacterTextSplitter(chunk_size=1000, chunk_overlap=100)\n",
        "            split_docs = text_splitter.split_documents(all_docs)\n",
        "            print(f\"총 {len(all_docs)}개 문서 -> {len(split_docs)}개 청크로 분할.\")\n",
        "\n",
        "            embeddings = UpstageEmbeddings(model=\"solar-embedding-1-large\")\n",
        "            vectorstore = Chroma.from_documents(documents=split_docs, embedding=embeddings)\n",
        "            retriever = vectorstore.as_retriever()\n",
        "            print(\"RAG Vector Store (Chroma) 설정 및 Retriever 준비 완료.\")\n",
        "            return retriever\n",
        "\n",
        "        except Exception as e:\n",
        "            print(f\"RAG 설정 중 오류 발생: {e}\")\n",
        "            return None\n",
        "\n",
        "    def _define_agent_tools(self, retriever):\n",
        "        agent_tools = []\n",
        "\n",
        "        if retriever:\n",
        "            rag_tool = Tool(\n",
        "                name=\"Policy Search\",\n",
        "                func=lambda q: \"\\n\\n\".join(\n",
        "                    [f\"[{i+1}] {d.page_content[:800]}\" for i,d in enumerate(retriever.get_relevant_documents(q))]\n",
        "                ),\n",
        "                description=\"배송/환불 정책에서 관련 정보를 검색합니다. 입력: 자연어 질문.\"\n",
        "            )\n",
        "            agent_tools.append(rag_tool)\n",
        "            print(\"'Policy Search' 도구 추가 완료.\")\n",
        "        else:\n",
        "            print(\"경고: RAG Retriever가 없어 'Policy Search' 도구를 추가할 수 없습니다.\")\n",
        "\n",
        "        order_status_tool = Tool(\n",
        "            name=\"Get Order Status\",\n",
        "            func=self._get_order_status,\n",
        "            description=\"주문 ID의 현재 배송 상태를 조회합니다. 입력: 주문 ID (예: ORDER123).\"\n",
        "        )\n",
        "        agent_tools.append(order_status_tool)\n",
        "        print(\"'Get Order Status' 도구 추가 완료.\")\n",
        "\n",
        "        coupon_tool = Tool(\n",
        "            name=\"Issue Complaint Coupon\",\n",
        "            func=self._issue_complaint_coupon,\n",
        "            description=\"배송 지연 주문(예: ORDER456)에 대해 불만 쿠폰을 발급합니다. 입력: 주문 ID.\"\n",
        "        )\n",
        "        agent_tools.append(coupon_tool)\n",
        "        print(\"'Issue Complaint Coupon' 도구 추가 완료.\")\n",
        "\n",
        "        print(f\"\\n구성된 Agent 도구 목록: {[tool.name for tool in agent_tools]}\")\n",
        "        return agent_tools\n",
        "\n",
        "    def _create_llm(self):\n",
        "        try:\n",
        "            api_key = os.environ.get(\"UPSTAGE_API_KEY\")\n",
        "            if not api_key:\n",
        "                print(\"경고: UPSTAGE_API_KEY 환경 변수가 설정되지 않았습니다.\")\n",
        "                return None\n",
        "            llm = ChatUpstage(upstage_api_key=api_key)\n",
        "            print(f\"\\nUpstage LLM ({llm.model_name}) 준비 완료.\")\n",
        "            return llm\n",
        "        except Exception as e:\n",
        "            print(f\"\\nUpstage LLM 인스턴스 생성 중 오류 발생: {e}\")\n",
        "            return None\n",
        "\n",
        "    def _create_agent_executor(self, llm, tools, prompt_template, memory):\n",
        "        if llm is None or not tools or prompt_template is None or memory is None:\n",
        "            print(\"경고: Agent Executor 생성 요건 누락.\")\n",
        "            return None\n",
        "\n",
        "        agent = create_react_agent(llm, tools, prompt_template)\n",
        "        print(\"\\nAgent 생성 완료.\")\n",
        "\n",
        "        agent_executor = AgentExecutor(\n",
        "            agent=agent,\n",
        "            tools=tools,\n",
        "            verbose=True,\n",
        "            memory=memory,\n",
        "            handle_parsing_errors=True\n",
        "        )\n",
        "        print(\"Agent Executor 구성 완료 (메모리 연결).\")\n",
        "        return agent_executor\n",
        "\n",
        "    def _get_system_prompt(self):\n",
        "        return \"\"\"당신은 친절하고 유능한 고객 서비스 에이전트입니다.\n",
        "도구:\n",
        "{tools}\n",
        "\n",
        "ReAct 형식으로 추론/행동/관찰을 반복하세요.\n",
        "\n",
        "형식:\n",
        "Thought: ...\n",
        "Action: 도구이름[입력값]\n",
        "Observation: ...\n",
        "... 반복 ...\n",
        "Thought: 충분한 정보가 모였습니다.\n",
        "Final Answer: (최종 답변)\n",
        "\n",
        "도구 목록: {tool_names}\n",
        "이전 대화 기록을 고려해 응답하세요.\n",
        "\"\"\"\n",
        "\n",
        "    def invoke(self, user_input: str, config: Dict[str, Any] = None) -> Dict[str, Any]:\n",
        "        if self.agent_executor is None:\n",
        "            print(\"오류: Agent Executor가 초기화되지 않았습니다.\")\n",
        "            return {\"output\": \"Agent 시스템 오류가 발생했습니다. 초기화 로그를 확인해주세요.\"}\n",
        "        try:\n",
        "            result = self.agent_executor.invoke({\"input\": user_input}, config=config)\n",
        "            return result\n",
        "        except Exception as e:\n",
        "            print(f\"Agent 실행 중 오류 발생: {e}\")\n",
        "            return {\"output\": f\"Agent 실행 중 오류 발생: {e}\", \"error\": str(e)}\n",
        "\n",
        "    def is_ready(self):\n",
        "        return self.agent_executor is not None\n",
        "\n",
        "print(\"\\n에이전트 기능이 CustomerServiceAgent 클래스로 완전히 재구성되었습니다.\")\n"
      ]
    },
    {
      "cell_type": "markdown",
      "metadata": {
        "id": "ISbzpEyw4bLu"
      },
      "source": [
        "#### app.py (실습 1 + 실습 2)\n"
      ]
    },
    {
      "cell_type": "code",
      "source": [
        "from google.colab import userdata\n",
        "import os\n",
        "\n",
        "# Colab Secrets에서 불러와 환경변수로 설정\n",
        "os.environ[\"UPSTAGE_API_KEY\"] = userdata.get(\"UPSTAGE_API_KEY\")\n",
        "\n",
        "# 확인\n",
        "print(\"🔑 UPSTAGE_API_KEY 설정 완료:\", bool(os.environ.get(\"UPSTAGE_API_KEY\")))"
      ],
      "metadata": {
        "colab": {
          "base_uri": "https://localhost:8080/"
        },
        "id": "qSGUvdKkmuiV",
        "outputId": "e8f46c5c-ad60-4004-8e41-286dddbe9138"
      },
      "execution_count": 8,
      "outputs": [
        {
          "output_type": "stream",
          "name": "stdout",
          "text": [
            "🔑 UPSTAGE_API_KEY 설정 완료: True\n"
          ]
        }
      ]
    },
    {
      "cell_type": "code",
      "source": [
        "from cs_agent import CustomerServiceAgent\n",
        "api_key = os.environ.get(\"UPSTAGE_API_KEY\")\n",
        "print(\"API 키 불러오기 성공:\", bool(api_key))\n",
        "\n",
        "agent = CustomerServiceAgent()\n",
        "print(\"Agent 준비 상태:\", agent.is_ready())"
      ],
      "metadata": {
        "colab": {
          "base_uri": "https://localhost:8080/"
        },
        "id": "w1A73FGVmx-1",
        "outputId": "ff3a8132-c2a3-4020-b3a6-66cf20725cb3"
      },
      "execution_count": 9,
      "outputs": [
        {
          "output_type": "stream",
          "name": "stdout",
          "text": [
            "\n",
            "에이전트 기능이 CustomerServiceAgent 클래스로 완전히 재구성되었습니다.\n",
            "API 키 불러오기 성공: True\n",
            "\n",
            "--- CustomerServiceAgent 초기화 시작 ---\n",
            "\n",
            "Upstage LLM (solar-mini) 준비 완료.\n",
            "경고: './신규 회원 혜택 | 서비스:혜택 - 예스24.pdf' 파일을 찾을 수 없습니다.\n",
            "경고: './매장 픽업 서비스 | 서비스:혜택 - 예스24.pdf' 파일을 찾을 수 없습니다.\n",
            "경고: './도서 품절 보상제도 | 예스24.pdf' 파일을 찾을 수 없습니다.\n",
            "경고: './무료배송+추가적립 | 서비스:혜택 - 예스24.pdf' 파일을 찾을 수 없습니다.\n",
            "경고: './배송지연 보상제도 | 서비스:혜택 - 예스24.pdf' 파일을 찾을 수 없습니다.\n",
            "경고: './총알배송 | 서비스:혜택 - 예스24.pdf' 파일을 찾을 수 없습니다.\n",
            "경고: './영원한 YES포인트 | 서비스:혜택 - 예스24.pdf' 파일을 찾을 수 없습니다.\n",
            "경고: './제휴 할인카드 | 서비스:혜택 - 예스24.pdf' 파일을 찾을 수 없습니다.\n",
            "'./shipping_policy.txt' 로드 완료.\n",
            "경고: './refund_policy.txt' 파일을 찾을 수 없습니다. RAG에 포함되지 않습니다.\n",
            "총 1개 문서 -> 1개 청크로 분할.\n",
            "RAG 설정 중 오류 발생: Could not import chromadb python package. Please install it with `pip install chromadb`.\n",
            "경고: RAG Retriever가 없어 'Policy Search' 도구를 추가할 수 없습니다.\n",
            "'Get Order Status' 도구 추가 완료.\n",
            "'Issue Complaint Coupon' 도구 추가 완료.\n",
            "\n",
            "구성된 Agent 도구 목록: ['Get Order Status', 'Issue Complaint Coupon']\n",
            "\n",
            "Agent 생성 완료.\n",
            "Agent Executor 구성 완료 (메모리 연결).\n",
            "CustomerServiceAgent 초기화 완료.\n",
            "Agent 준비 상태: True\n"
          ]
        }
      ]
    },
    {
      "cell_type": "code",
      "execution_count": 10,
      "metadata": {
        "colab": {
          "base_uri": "https://localhost:8080/",
          "height": 614
        },
        "id": "PHprFpJ6vYuz",
        "outputId": "751eb9c3-708e-4d5e-d4d3-2af982be87d2"
      },
      "outputs": [
        {
          "output_type": "stream",
          "name": "stdout",
          "text": [
            "Colab notebook detected. To show errors in colab notebook, set debug=True in launch()\n",
            "* Running on public URL: https://079ac04c2702961667.gradio.live\n",
            "\n",
            "This share link expires in 1 week. For free permanent hosting and GPU upgrades, run `gradio deploy` from the terminal in the working directory to deploy to Hugging Face Spaces (https://huggingface.co/spaces)\n"
          ]
        },
        {
          "output_type": "display_data",
          "data": {
            "text/plain": [
              "<IPython.core.display.HTML object>"
            ],
            "text/html": [
              "<div><iframe src=\"https://079ac04c2702961667.gradio.live\" width=\"100%\" height=\"500\" allow=\"autoplay; camera; microphone; clipboard-read; clipboard-write;\" frameborder=\"0\" allowfullscreen></iframe></div>"
            ]
          },
          "metadata": {}
        },
        {
          "output_type": "execute_result",
          "data": {
            "text/plain": []
          },
          "metadata": {},
          "execution_count": 10
        }
      ],
      "source": [
        "import gradio as gr\n",
        "import os\n",
        "from cs_agent import CustomerServiceAgent\n",
        "\n",
        "agent_instance = None\n",
        "\n",
        "def get_agent_instance():\n",
        "    global agent_instance\n",
        "    if agent_instance is None:\n",
        "        print(\"Agent 인스턴스 로드 중...\")\n",
        "        try:\n",
        "            api_key = os.environ.get(\"UPSTAGE_API_KEY\")\n",
        "            if not api_key:\n",
        "                print(\"경고: UPSTAGE_API_KEY 환경 변수가 설정되지 않았습니다. Agent 로드 실패.\")\n",
        "                return None\n",
        "            agent_instance = CustomerServiceAgent(api_key=api_key)\n",
        "            if not agent_instance.is_ready():\n",
        "                print(\"챗봇 Agent 로드 실패. 키/문서 확인 후 재시도.\")\n",
        "                agent_instance = None\n",
        "                return None\n",
        "            print(\"Agent 인스턴스 로드 완료.\")\n",
        "            return agent_instance\n",
        "        except Exception as e:\n",
        "            print(f\"Agent 인스턴스 로딩 중 오류 발생: {e}\")\n",
        "            agent_instance = None\n",
        "            return None\n",
        "    print(\"캐시된 Agent 인스턴스 사용.\")\n",
        "    return agent_instance\n",
        "\n",
        "async def process_message(message, chat_history):\n",
        "    chat_history = (chat_history or []) + [{\"role\": \"user\", \"content\": message}, {\"role\": \"assistant\", \"content\": \"\"}]\n",
        "    yield \"\", chat_history\n",
        "\n",
        "    agent = get_agent_instance()\n",
        "    if agent is None or not agent.is_ready():\n",
        "        err = \"죄송합니다. 챗봇 시스템에 문제가 발생했습니다. (Agent 로드 실패)\"\n",
        "        chat_history[-1][\"content\"] = err\n",
        "        yield gr.update(value=\"\"), chat_history\n",
        "        return\n",
        "\n",
        "    try:\n",
        "        result = agent.agent_executor.invoke({\"input\": message})\n",
        "        agent_response = result.get('output', 'Agent 응답 없음')\n",
        "        chat_history[-1][\"content\"] = agent_response\n",
        "        yield gr.update(value=\"\"), chat_history\n",
        "    except Exception as e:\n",
        "        err = f\"죄송합니다. 요청 처리 중 오류가 발생했습니다: {e}\"\n",
        "        chat_history[-1][\"content\"] = err\n",
        "        yield gr.update(value=\"\"), chat_history\n",
        "\n",
        "with gr.Blocks(title=\"AI 온라인 서점 챗봇\") as demo:\n",
        "    gr.Markdown(\"# AI 온라인 서점 챗봇\")\n",
        "    gr.Markdown(\"무엇이든 물어보세요!\")\n",
        "    chatbot = gr.Chatbot(height=400, type='messages', label=\"Chat History\")\n",
        "    with gr.Row():\n",
        "        textbox = gr.Textbox(placeholder=\"메시지를 입력하세요...\", container=False, scale=7, label=\"Your Message\")\n",
        "        submit_btn = gr.Button(\"Submit\")\n",
        "\n",
        "    submit_btn.click(process_message, inputs=[textbox, chatbot], outputs=[textbox, chatbot])\n",
        "    textbox.submit(process_message, inputs=[textbox, chatbot], outputs=[textbox, chatbot])\n",
        "\n",
        "demo.launch(inline=True, share=True)"
      ]
    },
    {
      "cell_type": "markdown",
      "metadata": {
        "id": "a723dfc2"
      },
      "source": [
        "# 실습 마무리\n",
        "\n",
        "이번 경험을 통해 다음 키워드들을 중심으로 AI Agent와 웹 UI 연동 실습을 성공적으로 수행했습니다.\n",
        "\n",
        "*   **Gradio**: Python 함수를 웹 UI로 빠르게 변환할 수 있는 라이브러리입니다. Streamlit 대신 Gradio를 사용하여 챗봇 인터페이스를 구축하고 `gr.ChatInterface` 및 `gr.Blocks`와 같은 핵심 컴포넌트를 활용하는 방법을 배웠습니다.\n",
        "*   **AI Agent 연동**: 별도로 개발된 `CustomerServiceAgent` 클래스를 Gradio 웹 애플리케이션에 통합하여 사용자 입력에 따라 Agent가 작동하고 응답을 생성하도록 연결했습니다.\n",
        "*   **Python 함수 캐싱**: Agent 객체처럼 로딩 시간이 오래 걸리는 리소스를 애플리케이션 실행 중 한 번만 로드하여 성능을 최적화하기 위해 Python 함수 내에서 전역 변수를 활용한 캐싱 기법을 적용했습니다.\n",
        "*   **Agent 생각 과정 시각화**: Agent의 ReAct 추론 과정(Thought, Action, Observation)을 `intermediate_steps`에서 추출하여 `gr.Textbox`에 보기 쉽게 표시함으로써 Agent의 작동 투명성을 높였습니다.\n",
        "*   **JSON 출력 처리 및 시각화**: Agent의 최종 출력이 JSON 형식일 경우 이를 감지하고 파싱하여 `gr.JSON` 컴포넌트를 통해 구조화된 형태로 보여주는 방법을 구현했습니다.\n",
        "*   **Gradio Blocks 및 이벤트 핸들링**: `gr.Blocks`를 사용하여 챗봇 창, 생각 과정, JSON 출력 등 여러 컴포넌트를 원하는 레이아웃으로 배치하고, `.click()` 및 `.submit()` 이벤트 핸들러를 사용하여 사용자 인터랙션과 Agent 호출 및 UI 업데이트 로직을 연결했습니다.\n",
        "*   **Gradio `yield`**: `process_message` 함수 내에서 `yield`를 사용하여 Agent 실행 중 또는 완료 후에 여러 UI 컴포넌트의 상태를 업데이트하는 방법을 경험했습니다.\n",
        "*   **Colab 환경 배포**: `demo.launch(share=True, inline=True)` 명령어를 사용하여 Colab 환경에서 개발한 Gradio 웹 애플리케이션을 외부에서도 접속할 수 있도록 공유 링크를 생성하는 방법을 확인했습니다.\n",
        "\n",
        "이 실습을 통해 Agent 시스템이 실제 사용자 서비스와 어떻게 연결되고, Agent의 내부 작동 과정을 사용자에게 어떻게 투명하게 보여줄 수 있는지에 대한 실무적인 경험을 쌓았습니다."
      ]
    }
  ],
  "metadata": {
    "accelerator": "GPU",
    "colab": {
      "gpuType": "T4",
      "provenance": [],
      "include_colab_link": true
    },
    "kernelspec": {
      "display_name": "Python 3",
      "name": "python3"
    },
    "language_info": {
      "name": "python"
    }
  },
  "nbformat": 4,
  "nbformat_minor": 0
}